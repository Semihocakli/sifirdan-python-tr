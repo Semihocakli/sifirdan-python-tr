{
 "cells": [
  {
   "cell_type": "markdown",
   "id": "intelligent-banana",
   "metadata": {},
   "source": [
    "## [10 Soru] QUIZ - Fonksiyonlar I"
   ]
  },
  {
   "cell_type": "markdown",
   "id": "roman-eclipse",
   "metadata": {},
   "source": [
    "**Soru 1:**\n",
    "\n",
    "Ekrana \"Selam Dünya!\" yazan bir fonksiyon yazın."
   ]
  },
  {
   "cell_type": "code",
   "execution_count": 1,
   "id": "prompt-dictionary",
   "metadata": {},
   "outputs": [
    {
     "name": "stdout",
     "output_type": "stream",
     "text": [
      "Merhaba Dünya!\n"
     ]
    }
   ],
   "source": [
    "# Çözüm 1:\n",
    "\n",
    "def yazdir():\n",
    "    print(\"Merhaba Dünya!\")\n",
    "\n",
    "yazdir()"
   ]
  },
  {
   "cell_type": "markdown",
   "id": "prompt-african",
   "metadata": {},
   "source": [
    "---"
   ]
  },
  {
   "cell_type": "markdown",
   "id": "angry-instrumentation",
   "metadata": {},
   "source": [
    "**Soru 2:**\n",
    "\n",
    "String şeklinde iki parametre alan bir fonksiyon yazın. Bu parametreleri kişi ismi kabul edelim. <br>\n",
    "Fonksiyon bu iki ismi \"ve\" ile bağlayarak selamlasın. <br>\n",
    "Ör: Selam Clark Kent ve Superman. <br>\n",
    "(String'in format fonksiyonu kullanın.)"
   ]
  },
  {
   "cell_type": "code",
   "execution_count": 24,
   "id": "popular-killer",
   "metadata": {},
   "outputs": [
    {
     "name": "stdout",
     "output_type": "stream",
     "text": [
      "Ali ve Veli\n"
     ]
    }
   ],
   "source": [
    "# Çözüm 2:\n",
    "def kisiler(ad: str, soyad: str) -> str:\n",
    "    return ad + \" ve \" + soyad\n",
    "\n",
    "# Kullanım\n",
    "print(kisiler(\"Ali\", \"Veli\"))\n"
   ]
  },
  {
   "cell_type": "markdown",
   "id": "growing-blogger",
   "metadata": {},
   "source": [
    "---"
   ]
  },
  {
   "cell_type": "markdown",
   "id": "working-algebra",
   "metadata": {},
   "source": [
    "**Soru 3:**\n",
    "\n",
    "Kullanıcıdan girdi olarak ismini isteyen bir fonksiyon yazın. <br>\n",
    "Bu fonksiyon aldığı ismi \"Selam sana ....\" şeklinde selamlasın. <br>\n",
    "(Girdi almak için input() fonksiyonunu kullanın.)"
   ]
  },
  {
   "cell_type": "code",
   "execution_count": 11,
   "id": "demographic-luxury",
   "metadata": {},
   "outputs": [
    {
     "data": {
      "text/plain": [
       "'Selam sana sekih'"
      ]
     },
     "execution_count": 11,
     "metadata": {},
     "output_type": "execute_result"
    }
   ],
   "source": [
    "# Çözüm 3:\n",
    "def isim_al():\n",
    "    \n",
    "    ad = input(\"Adınızı giriniz: \")\n",
    "\n",
    "    selamla = \"Selam sana\" + \" \" +  ad\n",
    "\n",
    "    return selamla\n",
    "\n",
    "isim_al()\n"
   ]
  },
  {
   "cell_type": "markdown",
   "id": "annual-positive",
   "metadata": {},
   "source": [
    "---"
   ]
  },
  {
   "cell_type": "markdown",
   "id": "equivalent-spice",
   "metadata": {},
   "source": [
    "**Soru 4:**\n",
    "\n",
    "Parametre olarak 3 sayı alan bir fonksiyon yazın. <br>\n",
    "Fonksiyon bu sayılardan en büyüğünü size geri dönsün. <br>\n",
    "Bu fonksiyonun docstring'ini de yazın. "
   ]
  },
  {
   "cell_type": "code",
   "execution_count": 17,
   "id": "cleared-current",
   "metadata": {},
   "outputs": [
    {
     "name": "stdout",
     "output_type": "stream",
     "text": [
      "Üç sayı giriniz:\n",
      "En büyük sayı: 7.0\n"
     ]
    }
   ],
   "source": [
    "def buyugu_bul(s1: float, s2: float, s3: float) -> float:\n",
    "    \"\"\"\n",
    "    Verilen üç sayıdan en büyüğünü döndüren bir fonksiyon.\n",
    "\n",
    "    Args:\n",
    "        s1 (float): Birinci sayı.\n",
    "        s2 (float): İkinci sayı.\n",
    "        s3 (float): Üçüncü sayı.\n",
    "\n",
    "    Returns:\n",
    "        float: En büyük sayı.\n",
    "    \"\"\"\n",
    "    if s1 > s2 and s1 > s3:\n",
    "        return s1\n",
    "    elif s2 > s1 and s2 > s3:\n",
    "        return s2\n",
    "    else:\n",
    "        return s3\n",
    "\n",
    "\n",
    "# Kullanıcıdan giriş alma\n",
    "print(\"Üç sayı giriniz:\")\n",
    "s1 = float(input(\"Birinci sayı: \"))\n",
    "s2 = float(input(\"İkinci sayı: \"))\n",
    "s3 = float(input(\"Üçüncü sayı: \"))\n",
    "\n",
    "# Fonksiyonu çağır ve sonucu yazdır\n",
    "en_buyuk = buyugu_bul(s1, s2, s3)\n",
    "print(f\"En büyük sayı: {en_buyuk}\")\n"
   ]
  },
  {
   "cell_type": "markdown",
   "id": "disturbed-bathroom",
   "metadata": {},
   "source": [
    "---"
   ]
  },
  {
   "cell_type": "markdown",
   "id": "conceptual-parts",
   "metadata": {},
   "source": [
    "**Soru 5:**\n",
    "\n",
    "Parametre olarak gelen metni parçalayan küçük harfe çeviren bir fonksiyon yazın. <br>\n",
    " * parçalamak için: strip()\n",
    " * küçük harf yapmak için: lower()"
   ]
  },
  {
   "cell_type": "code",
   "execution_count": 23,
   "id": "bronze-moscow",
   "metadata": {},
   "outputs": [
    {
     "name": "stdout",
     "output_type": "stream",
     "text": [
      " Çirkin Metin:   PyThon MaCHine LEARning  , Düzgün Metin: python machine learning\n"
     ]
    }
   ],
   "source": [
    "# Çözüm 5:\n",
    "\n",
    "\n",
    "def metni_duzelt(metin: str) -> str:\n",
    "    \"\"\"\n",
    "    Verilen metni parçalayan, küçük harfe çeviren ve temizleyen bir fonksiyon.\n",
    "\n",
    "    Args:\n",
    "        metin (str): İşlenecek metin.\n",
    "\n",
    "    Returns:\n",
    "        str: Küçük harfe çevrilmiş ve temizlenmiş düzgün metin.\n",
    "    \"\"\"\n",
    "    return \" \".join(metin.strip().lower().split())\n",
    "\n",
    "# Kullanım örneği\n",
    "cirkin_metin = \"   PyThon MaCHine LEARning  \"\n",
    "duzgun_metin = metni_duzelt(cirkin_metin)\n",
    "print(f\" Çirkin Metin:{cirkin_metin}, Düzgün Metin: {duzgun_metin}\")\n",
    "\n",
    "\n",
    "\"\"\"\n",
    "strip(): Metnin başındaki ve sonundaki gereksiz boşluklar kaldırılır.\n",
    "\n",
    "lower(): Metindeki tüm harfler küçük harfe dönüştürülür.\n",
    "\n",
    "split() ve join():\n",
    "split() metni boşluklardan ayırarak kelimelere böler.\n",
    "join() ile kelimeler tekrar birleştirilir, ancak gereksiz boşluklar kaldırılır.\n",
    "\"\"\"\n"
   ]
  },
  {
   "cell_type": "markdown",
   "id": "fossil-current",
   "metadata": {},
   "source": [
    "---"
   ]
  },
  {
   "cell_type": "markdown",
   "id": "focal-suggestion",
   "metadata": {},
   "source": [
    "**Soru 6:**\n",
    "\n",
    "Parametre olarak gelen iki sayının toplamını dönen bir fonksiyon yazın."
   ]
  },
  {
   "cell_type": "code",
   "execution_count": 1,
   "id": "equivalent-commission",
   "metadata": {},
   "outputs": [
    {
     "name": "stdout",
     "output_type": "stream",
     "text": [
      "8\n"
     ]
    }
   ],
   "source": [
    "# Çözüm 6:\n",
    "\n",
    "def topla(s1: int,s2: int):\n",
    "    return s1 + s2\n",
    "\n",
    "toplam = topla(5, 3)\n",
    "print(toplam)\n"
   ]
  },
  {
   "cell_type": "markdown",
   "id": "forced-boating",
   "metadata": {},
   "source": [
    "---"
   ]
  },
  {
   "cell_type": "markdown",
   "id": "peaceful-board",
   "metadata": {},
   "source": [
    "**Soru 7:**\n",
    "\n",
    "Parametre olarak gelen 3 sayı alan bir fonksiyon yazın. <br>\n",
    "Fonksiyon bu sayıların ikili farklarını alsın ve bu farklardan en küçüğünü dönsün. <br>\n",
    "* Fark için mutlak değeri kullanın -> abs  (absolute value)\n",
    "* Minimum için -> min"
   ]
  },
  {
   "cell_type": "code",
   "execution_count": 2,
   "id": "bibliographic-queen",
   "metadata": {},
   "outputs": [
    {
     "name": "stdout",
     "output_type": "stream",
     "text": [
      "En küçük fark: 5\n"
     ]
    }
   ],
   "source": [
    "def en_kucuk_fark(s1: float, s2: float, s3: float) -> float:\n",
    "    \"\"\"\n",
    "    Verilen üç sayı arasındaki ikili farklardan en küçüğünü döndüren bir fonksiyon.\n",
    "\n",
    "    Args:\n",
    "        s1 (float): Birinci sayı.\n",
    "        s2 (float): İkinci sayı.\n",
    "        s3 (float): Üçüncü sayı.\n",
    "\n",
    "    Returns:\n",
    "        float: İkili farklardan en küçüğü.\n",
    "    \"\"\"\n",
    "    # İkili farkların mutlak değerlerini hesapla\n",
    "    fark1 = abs(s1 - s2)\n",
    "    fark2 = abs(s1 - s3)\n",
    "    fark3 = abs(s2 - s3)\n",
    "    \n",
    "    # Farklardan en küçüğünü döndür\n",
    "    return min(fark1, fark2, fark3)\n",
    "\n",
    "# Kullanım örneği\n",
    "sonuc = en_kucuk_fark(10, 25, 15)\n",
    "print(f\"En küçük fark: {sonuc}\")\n"
   ]
  },
  {
   "cell_type": "markdown",
   "id": "romance-blink",
   "metadata": {},
   "source": [
    "---"
   ]
  },
  {
   "cell_type": "markdown",
   "id": "earned-scenario",
   "metadata": {},
   "source": [
    "**Soru 8:**\n",
    "\n",
    "Parametre olarak bir sayı alan bir fonksiyon yazın. <br>\n",
    "Fonksiyon bu sayının karekökünü dönsün. <br>\n",
    "* Karekök için -> math.sqrt()"
   ]
  },
  {
   "cell_type": "code",
   "execution_count": 6,
   "id": "unauthorized-immunology",
   "metadata": {},
   "outputs": [
    {
     "name": "stdout",
     "output_type": "stream",
     "text": [
      "4.0\n"
     ]
    }
   ],
   "source": [
    "# Çözüm 8:\n",
    "import math\n",
    "\n",
    "def karekok(sayi: float) -> float:\n",
    "    \"\"\"\n",
    "    Verilen sayının karekökünü döndüren bir fonksiyon.\n",
    "\n",
    "    Args:\n",
    "        sayi (float): Karekökü alınacak sayı.\n",
    "\n",
    "    Returns:\n",
    "        float: Sayının karekökü.\n",
    "    \"\"\"\n",
    "    return math.sqrt(sayi)\n",
    "\n",
    "karekok = karekok(16)\n",
    "print(karekok)\n"
   ]
  },
  {
   "cell_type": "markdown",
   "id": "monetary-drill",
   "metadata": {},
   "source": [
    "---"
   ]
  },
  {
   "cell_type": "markdown",
   "id": "herbal-liberia",
   "metadata": {},
   "source": [
    "**Soru 9:**\n",
    "\n",
    "Parametre olarak bir sayı alan bir fonksiyon yazın. <br>\n",
    "Fonksiyon bu sayının logaritmasını dönsün. <br>\n",
    "* Logaritma için -> math.log()"
   ]
  },
  {
   "cell_type": "code",
   "execution_count": 8,
   "id": "acting-drill",
   "metadata": {},
   "outputs": [
    {
     "name": "stdout",
     "output_type": "stream",
     "text": [
      "2.302585092994046\n"
     ]
    }
   ],
   "source": [
    "# Çözüm 9:\n",
    "\n",
    "def log_al(sayi: float) -> float:\n",
    "    \"\"\"\n",
    "    Verilen sayının doğal logaritmasını döndüren bir fonksiyon.\n",
    "\n",
    "    Args:\n",
    "        sayi (float): Logaritması alınacak sayı.\n",
    "\n",
    "    Returns:\n",
    "        float: Sayının doğal logaritması.\n",
    "    \"\"\"\n",
    "    return math.log(sayi)\n",
    "\n",
    "logaritma = log_al(10)\n",
    "print(logaritma)\n"
   ]
  },
  {
   "cell_type": "markdown",
   "id": "equal-electronics",
   "metadata": {},
   "source": [
    "---"
   ]
  },
  {
   "cell_type": "markdown",
   "id": "returning-checkout",
   "metadata": {},
   "source": [
    "**Soru 10:**\n",
    "\n",
    "Parametre olarak 2 sayı alan bir fonksiyon yazın. <br>\n",
    "Bu sayıları bir dik üçgenin dik kenarları  olarak düşünelim.\n",
    "Fonksiyon bu üçgenin hipotenüsünü dönsün. <br>\n",
    "$$ hipo^2 = a^2 + b^2 $$"
   ]
  },
  {
   "cell_type": "code",
   "execution_count": 9,
   "id": "activated-keeping",
   "metadata": {},
   "outputs": [
    {
     "name": "stdout",
     "output_type": "stream",
     "text": [
      "5.0\n"
     ]
    }
   ],
   "source": [
    "# Çözüm 10:\n",
    "def hipotenus(s1: float, s2: float) -> float:\n",
    "    \"\"\"\n",
    "    Verilen iki dik kenarın hipotenüsünü döndüren bir fonksiyon.\n",
    "\n",
    "    Args:\n",
    "        s1 (float): Birinci dik kenar.\n",
    "        s2 (float): İkinci dik kenar.\n",
    "\n",
    "    Returns:\n",
    "        float: Hipotenüs.\n",
    "    \"\"\"\n",
    "    return math.sqrt(s1**2 + s2**2)\n",
    "\n",
    "hipotenus = hipotenus(3, 4)\n",
    "print(hipotenus)\n",
    "\n"
   ]
  },
  {
   "cell_type": "code",
   "execution_count": null,
   "id": "f8ab51f3",
   "metadata": {},
   "outputs": [],
   "source": []
  }
 ],
 "metadata": {
  "kernelspec": {
   "display_name": "venv",
   "language": "python",
   "name": "python3"
  },
  "language_info": {
   "codemirror_mode": {
    "name": "ipython",
    "version": 3
   },
   "file_extension": ".py",
   "mimetype": "text/x-python",
   "name": "python",
   "nbconvert_exporter": "python",
   "pygments_lexer": "ipython3",
   "version": "3.11.2"
  }
 },
 "nbformat": 4,
 "nbformat_minor": 5
}
